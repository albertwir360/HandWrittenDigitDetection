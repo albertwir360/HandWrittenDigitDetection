{
 "cells": [
  {
   "cell_type": "code",
   "execution_count": 15,
   "metadata": {},
   "outputs": [],
   "source": [
    "import tensorflow as tf\n",
    "import matplotlib.pyplot as plt"
   ]
  },
  {
   "cell_type": "code",
   "execution_count": 16,
   "metadata": {},
   "outputs": [],
   "source": [
    "# stores the 28x28 images of hand-written digits into a variable\n",
    "mnist_dataset = tf.keras.datasets.mnist "
   ]
  },
  {
   "cell_type": "code",
   "execution_count": 17,
   "metadata": {},
   "outputs": [
    {
     "name": "stdout",
     "output_type": "stream",
     "text": [
      "Epoch 1/10\n",
      "60000/60000 [==============================] - 7s 117us/sample - loss: 0.2609 - acc: 0.9225\n",
      "Epoch 2/10\n",
      "60000/60000 [==============================] - 7s 114us/sample - loss: 0.1084 - acc: 0.9668\n",
      "Epoch 3/10\n",
      "60000/60000 [==============================] - 7s 112us/sample - loss: 0.0749 - acc: 0.9762\n",
      "Epoch 4/10\n",
      "60000/60000 [==============================] - 7s 114us/sample - loss: 0.0541 - acc: 0.9830\n",
      "Epoch 5/10\n",
      "60000/60000 [==============================] - 7s 112us/sample - loss: 0.0417 - acc: 0.9854\n",
      "Epoch 6/10\n",
      "60000/60000 [==============================] - 7s 113us/sample - loss: 0.0309 - acc: 0.9895\n",
      "Epoch 7/10\n",
      "60000/60000 [==============================] - 7s 116us/sample - loss: 0.0262 - acc: 0.9911s - loss: 0.0257 - a\n",
      "Epoch 8/10\n",
      "60000/60000 [==============================] - 7s 120us/sample - loss: 0.0214 - acc: 0.9929\n",
      "Epoch 9/10\n",
      "60000/60000 [==============================] - 7s 118us/sample - loss: 0.0170 - acc: 0.9941\n",
      "Epoch 10/10\n",
      "60000/60000 [==============================] - 7s 115us/sample - loss: 0.0177 - acc: 0.9936\n"
     ]
    },
    {
     "data": {
      "text/plain": [
       "<tensorflow.python.keras.callbacks.History at 0x1346914d0>"
      ]
     },
     "execution_count": 17,
     "metadata": {},
     "output_type": "execute_result"
    }
   ],
   "source": [
    "# loads the data for further usage \n",
    "(x_train, y_train), (x_test, y_test) = mnist_dataset.load_data()\n",
    "# we are going to want to normalize the data in the multidimensional array into number b/n 0 and 1\n",
    "x_train = tf.keras.utils.normalize(x_train, axis=1)\n",
    "x_test = tf.keras.utils.normalize(x_test, axis= 1)\n",
    "\n",
    "model = tf.keras.models.Sequential()\n",
    "model.add(tf.keras.layers.Flatten())\n",
    "model.add(tf.keras.layers.Dense(128, activation = tf.nn.relu))\n",
    "model.add(tf.keras.layers.Dense(128, activation = tf.nn.relu))\n",
    "model.add(tf.keras.layers.Dense(10, activation = tf.nn.softmax))\n",
    "model.compile(optimizer = \"adam\", loss = \"sparse_categorical_crossentropy\", metrics= ['accuracy'])\n",
    "\n",
    "model.fit(x_train, y_train, epochs=10)"
   ]
  },
  {
   "cell_type": "code",
   "execution_count": 19,
   "metadata": {},
   "outputs": [
    {
     "name": "stdout",
     "output_type": "stream",
     "text": [
      "10000/10000 [==============================] - 0s 41us/sample - loss: 0.1177 - acc: 0.97210s - loss: 0.1495 - acc: 0.9\n",
      "0.11766692038888868 0.9721\n"
     ]
    }
   ],
   "source": [
    "# Evaluate the trained model\n",
    "val_loss, val_acc = model.evaluate(x_test, y_test)\n",
    "print(val_loss, val_acc)"
   ]
  },
  {
   "cell_type": "code",
   "execution_count": 20,
   "metadata": {},
   "outputs": [],
   "source": [
    "# SHOWS WHAT THE IMAGE AND ARRAY REPRESENTING IT LOOK LIKE\n",
    "#print(x_train[0]) - multidimensional area resembling the pixel values of the image from train data set \n",
    "#print(x_test[0])- multidimensional area resembling the pixel values of the image from test data set\n",
    "#plt.imshow(x_train[0], cmap = plt.cm.binary) - This prints the mutlidimensional array of values into an image. \n",
    "#the second argument \"cmap\" is used to make the image grayscale\n"
   ]
  },
  {
   "cell_type": "code",
   "execution_count": 21,
   "metadata": {},
   "outputs": [],
   "source": [
    "model.save('handwritten_digit_reading.model')"
   ]
  }
 ],
 "metadata": {
  "kernelspec": {
   "display_name": "Python 3",
   "language": "python",
   "name": "python3"
  },
  "language_info": {
   "codemirror_mode": {
    "name": "ipython",
    "version": 3
   },
   "file_extension": ".py",
   "mimetype": "text/x-python",
   "name": "python",
   "nbconvert_exporter": "python",
   "pygments_lexer": "ipython3",
   "version": "3.7.6"
  }
 },
 "nbformat": 4,
 "nbformat_minor": 4
}
